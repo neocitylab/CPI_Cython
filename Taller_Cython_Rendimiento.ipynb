{
  "nbformat": 4,
  "nbformat_minor": 0,
  "metadata": {
    "colab": {
      "provenance": [],
      "collapsed_sections": []
    },
    "kernelspec": {
      "name": "python3",
      "display_name": "Python 3"
    },
    "language_info": {
      "name": "python"
    }
  },
  "cells": [
    {
      "cell_type": "markdown",
      "source": [
        "<p align = center  \n",
        "<br>\n",
        "<img src=\"https://res-5.cloudinary.com/crunchbase-production/image/upload/c_lpad,h_256,w_256,f_auto,q_auto:eco/v1455514364/pim02bzqvgz0hibsra41.png\" align=\"center\"><br><FONT FACE=\"times new roman\" SIZE=5>\n",
        "<b>Práctica en Cython</b>\n",
        "<br>\n",
        "<i><b>Autor:</b></i> Paula Sofía Godoy Salamanca\n",
        "<br>\n",
        "<i><b>Asignatura:</b></i> Computación Paralela y Distribuída\n",
        "<br>\n",
        "<i><b>Docente:</b></i> John Corredor\n",
        "<br>\n",
        "<i><b>Fecha: </b>08/11/2022\n",
        "<br>\n",
        "<b>Ciencias de la computación e inteligencia artificial</b></i>\n",
        "<br>\n",
        "</FONT>\n",
        "</p>"
      ],
      "metadata": {
        "id": "iOvdeO6-RJja"
      }
    },
    {
      "cell_type": "code",
      "execution_count": 16,
      "metadata": {
        "id": "xX3JrhJw-fYB"
      },
      "outputs": [],
      "source": [
        "import pandas as pd\n",
        "import matplotlib.pyplot as plt"
      ]
    },
    {
      "cell_type": "code",
      "source": [
        "url=\"https://raw.githubusercontent.com/neocitylab/Datos_Orbita/main/planeta.csv\"\n",
        "dato_rend=pd.read_csv(url, names= [\"python\", \"cython\"])"
      ],
      "metadata": {
        "id": "yITkrJZS-4JA"
      },
      "execution_count": 5,
      "outputs": []
    },
    {
      "cell_type": "code",
      "source": [
        "dato_rend"
      ],
      "metadata": {
        "colab": {
          "base_uri": "https://localhost:8080/",
          "height": 363
        },
        "id": "FME4d9JA--Wu",
        "outputId": "cf48a266-90a1-4dba-d028-f929750e20f3"
      },
      "execution_count": 8,
      "outputs": [
        {
          "output_type": "execute_result",
          "data": {
            "text/plain": [
              "    python   cython\n",
              "0  1.77205  0.10388\n",
              "1  1.77508  0.10390\n",
              "2  1.80827  0.10400\n",
              "3  1.81540  0.10391\n",
              "4  1.85409  0.10400\n",
              "5  1.86645  0.10625\n",
              "6  1.76845  0.10398\n",
              "7  1.76212  0.10382\n",
              "8  1.80284  0.10433\n",
              "9  1.80779  0.10382"
            ],
            "text/html": [
              "\n",
              "  <div id=\"df-a14ba1ed-2440-4768-847e-edfbca2a4ea4\">\n",
              "    <div class=\"colab-df-container\">\n",
              "      <div>\n",
              "<style scoped>\n",
              "    .dataframe tbody tr th:only-of-type {\n",
              "        vertical-align: middle;\n",
              "    }\n",
              "\n",
              "    .dataframe tbody tr th {\n",
              "        vertical-align: top;\n",
              "    }\n",
              "\n",
              "    .dataframe thead th {\n",
              "        text-align: right;\n",
              "    }\n",
              "</style>\n",
              "<table border=\"1\" class=\"dataframe\">\n",
              "  <thead>\n",
              "    <tr style=\"text-align: right;\">\n",
              "      <th></th>\n",
              "      <th>python</th>\n",
              "      <th>cython</th>\n",
              "    </tr>\n",
              "  </thead>\n",
              "  <tbody>\n",
              "    <tr>\n",
              "      <th>0</th>\n",
              "      <td>1.77205</td>\n",
              "      <td>0.10388</td>\n",
              "    </tr>\n",
              "    <tr>\n",
              "      <th>1</th>\n",
              "      <td>1.77508</td>\n",
              "      <td>0.10390</td>\n",
              "    </tr>\n",
              "    <tr>\n",
              "      <th>2</th>\n",
              "      <td>1.80827</td>\n",
              "      <td>0.10400</td>\n",
              "    </tr>\n",
              "    <tr>\n",
              "      <th>3</th>\n",
              "      <td>1.81540</td>\n",
              "      <td>0.10391</td>\n",
              "    </tr>\n",
              "    <tr>\n",
              "      <th>4</th>\n",
              "      <td>1.85409</td>\n",
              "      <td>0.10400</td>\n",
              "    </tr>\n",
              "    <tr>\n",
              "      <th>5</th>\n",
              "      <td>1.86645</td>\n",
              "      <td>0.10625</td>\n",
              "    </tr>\n",
              "    <tr>\n",
              "      <th>6</th>\n",
              "      <td>1.76845</td>\n",
              "      <td>0.10398</td>\n",
              "    </tr>\n",
              "    <tr>\n",
              "      <th>7</th>\n",
              "      <td>1.76212</td>\n",
              "      <td>0.10382</td>\n",
              "    </tr>\n",
              "    <tr>\n",
              "      <th>8</th>\n",
              "      <td>1.80284</td>\n",
              "      <td>0.10433</td>\n",
              "    </tr>\n",
              "    <tr>\n",
              "      <th>9</th>\n",
              "      <td>1.80779</td>\n",
              "      <td>0.10382</td>\n",
              "    </tr>\n",
              "  </tbody>\n",
              "</table>\n",
              "</div>\n",
              "      <button class=\"colab-df-convert\" onclick=\"convertToInteractive('df-a14ba1ed-2440-4768-847e-edfbca2a4ea4')\"\n",
              "              title=\"Convert this dataframe to an interactive table.\"\n",
              "              style=\"display:none;\">\n",
              "        \n",
              "  <svg xmlns=\"http://www.w3.org/2000/svg\" height=\"24px\"viewBox=\"0 0 24 24\"\n",
              "       width=\"24px\">\n",
              "    <path d=\"M0 0h24v24H0V0z\" fill=\"none\"/>\n",
              "    <path d=\"M18.56 5.44l.94 2.06.94-2.06 2.06-.94-2.06-.94-.94-2.06-.94 2.06-2.06.94zm-11 1L8.5 8.5l.94-2.06 2.06-.94-2.06-.94L8.5 2.5l-.94 2.06-2.06.94zm10 10l.94 2.06.94-2.06 2.06-.94-2.06-.94-.94-2.06-.94 2.06-2.06.94z\"/><path d=\"M17.41 7.96l-1.37-1.37c-.4-.4-.92-.59-1.43-.59-.52 0-1.04.2-1.43.59L10.3 9.45l-7.72 7.72c-.78.78-.78 2.05 0 2.83L4 21.41c.39.39.9.59 1.41.59.51 0 1.02-.2 1.41-.59l7.78-7.78 2.81-2.81c.8-.78.8-2.07 0-2.86zM5.41 20L4 18.59l7.72-7.72 1.47 1.35L5.41 20z\"/>\n",
              "  </svg>\n",
              "      </button>\n",
              "      \n",
              "  <style>\n",
              "    .colab-df-container {\n",
              "      display:flex;\n",
              "      flex-wrap:wrap;\n",
              "      gap: 12px;\n",
              "    }\n",
              "\n",
              "    .colab-df-convert {\n",
              "      background-color: #E8F0FE;\n",
              "      border: none;\n",
              "      border-radius: 50%;\n",
              "      cursor: pointer;\n",
              "      display: none;\n",
              "      fill: #1967D2;\n",
              "      height: 32px;\n",
              "      padding: 0 0 0 0;\n",
              "      width: 32px;\n",
              "    }\n",
              "\n",
              "    .colab-df-convert:hover {\n",
              "      background-color: #E2EBFA;\n",
              "      box-shadow: 0px 1px 2px rgba(60, 64, 67, 0.3), 0px 1px 3px 1px rgba(60, 64, 67, 0.15);\n",
              "      fill: #174EA6;\n",
              "    }\n",
              "\n",
              "    [theme=dark] .colab-df-convert {\n",
              "      background-color: #3B4455;\n",
              "      fill: #D2E3FC;\n",
              "    }\n",
              "\n",
              "    [theme=dark] .colab-df-convert:hover {\n",
              "      background-color: #434B5C;\n",
              "      box-shadow: 0px 1px 3px 1px rgba(0, 0, 0, 0.15);\n",
              "      filter: drop-shadow(0px 1px 2px rgba(0, 0, 0, 0.3));\n",
              "      fill: #FFFFFF;\n",
              "    }\n",
              "  </style>\n",
              "\n",
              "      <script>\n",
              "        const buttonEl =\n",
              "          document.querySelector('#df-a14ba1ed-2440-4768-847e-edfbca2a4ea4 button.colab-df-convert');\n",
              "        buttonEl.style.display =\n",
              "          google.colab.kernel.accessAllowed ? 'block' : 'none';\n",
              "\n",
              "        async function convertToInteractive(key) {\n",
              "          const element = document.querySelector('#df-a14ba1ed-2440-4768-847e-edfbca2a4ea4');\n",
              "          const dataTable =\n",
              "            await google.colab.kernel.invokeFunction('convertToInteractive',\n",
              "                                                     [key], {});\n",
              "          if (!dataTable) return;\n",
              "\n",
              "          const docLinkHtml = 'Like what you see? Visit the ' +\n",
              "            '<a target=\"_blank\" href=https://colab.research.google.com/notebooks/data_table.ipynb>data table notebook</a>'\n",
              "            + ' to learn more about interactive tables.';\n",
              "          element.innerHTML = '';\n",
              "          dataTable['output_type'] = 'display_data';\n",
              "          await google.colab.output.renderOutput(dataTable, element);\n",
              "          const docLink = document.createElement('div');\n",
              "          docLink.innerHTML = docLinkHtml;\n",
              "          element.appendChild(docLink);\n",
              "        }\n",
              "      </script>\n",
              "    </div>\n",
              "  </div>\n",
              "  "
            ]
          },
          "metadata": {},
          "execution_count": 8
        }
      ]
    },
    {
      "cell_type": "code",
      "source": [
        "dato_rend.info()"
      ],
      "metadata": {
        "colab": {
          "base_uri": "https://localhost:8080/"
        },
        "id": "Zxxhcho2FRWP",
        "outputId": "13e108b1-05d1-4540-ed47-a602b0a52316"
      },
      "execution_count": 38,
      "outputs": [
        {
          "output_type": "stream",
          "name": "stdout",
          "text": [
            "<class 'pandas.core.frame.DataFrame'>\n",
            "RangeIndex: 10 entries, 0 to 9\n",
            "Data columns (total 2 columns):\n",
            " #   Column  Non-Null Count  Dtype  \n",
            "---  ------  --------------  -----  \n",
            " 0   python  10 non-null     float64\n",
            " 1   cython  10 non-null     float64\n",
            "dtypes: float64(2)\n",
            "memory usage: 288.0 bytes\n"
          ]
        }
      ]
    },
    {
      "cell_type": "markdown",
      "source": [
        "# Promedio de los tiempos de ejecución"
      ],
      "metadata": {
        "id": "7qgv_YXa_-Cp"
      }
    },
    {
      "cell_type": "code",
      "source": [
        "prom_py=dato_rend[\"python\"].mean()\n",
        "print(\"El tiempo promedio de ejecucion para Python es de: \", str(prom_py))"
      ],
      "metadata": {
        "colab": {
          "base_uri": "https://localhost:8080/"
        },
        "id": "SJH-P2Js-_-A",
        "outputId": "7d8824e1-1d58-45f2-ea10-d67caa2b4e6d"
      },
      "execution_count": 24,
      "outputs": [
        {
          "output_type": "stream",
          "name": "stdout",
          "text": [
            "El tiempo promedio de ejecucion para Python es de:  1.8032540000000001\n"
          ]
        }
      ]
    },
    {
      "cell_type": "code",
      "source": [
        "prom_cy=dato_rend[\"cython\"].mean()\n",
        "print(\"El tiempo promedio de ejecucion para Cython es de: \", str(prom_cy))"
      ],
      "metadata": {
        "colab": {
          "base_uri": "https://localhost:8080/"
        },
        "id": "-OJfI8pQAJy9",
        "outputId": "7d897680-8998-4dc2-863a-60a10de6f818"
      },
      "execution_count": 25,
      "outputs": [
        {
          "output_type": "stream",
          "name": "stdout",
          "text": [
            "El tiempo promedio de ejecucion para Cython es de:  0.104189\n"
          ]
        }
      ]
    },
    {
      "cell_type": "code",
      "source": [
        "print(\"Cython es\" ,str(prom_py/prom_cy), \"veces más rapido que Cython para el problema de los planetas en orbita\")\n"
      ],
      "metadata": {
        "colab": {
          "base_uri": "https://localhost:8080/"
        },
        "id": "N3rLx6iLAODZ",
        "outputId": "dbe49953-23cc-4de2-a0c6-4557a0c3830e"
      },
      "execution_count": 27,
      "outputs": [
        {
          "output_type": "stream",
          "name": "stdout",
          "text": [
            "Cython es 17.307527666068395 veces más rapido que Cython para el problema de los planetas en orbita\n"
          ]
        }
      ]
    },
    {
      "cell_type": "code",
      "source": [
        "dato_rend.plot(kind = \"bar\", figsize=(15,10))\n",
        "plt.title(\"Comparacion rendimiento Python vs Cython\")\n",
        "plt.xlabel(\"Número de iteracion\")\n",
        "plt.ylabel(\"Tiempo (seg)\")\n",
        "plt.show()"
      ],
      "metadata": {
        "colab": {
          "base_uri": "https://localhost:8080/",
          "height": 588
        },
        "id": "2vE3oIVsAVud",
        "outputId": "e0a0710e-c6d4-4522-d94f-35b8d90253fa"
      },
      "execution_count": 23,
      "outputs": [
        {
          "output_type": "display_data",
          "data": {
            "text/plain": [
              "<Figure size 1080x720 with 1 Axes>"
            ],
            "image/png": "[encoded data removed]"
          },
          "metadata": {
            "needs_background": "light"
          }
        }
      ]
    },
    {
      "cell_type": "code",
      "source": [
        "plt.figure(figsize=(22, 6))\n",
        "\n",
        "plt.subplot(1, 3, 1)\n",
        "plt.plot(dato_rend[\"python\"], color='red', label='Python')\n",
        "plt.ylabel('Tiempo')\n",
        "plt.xlabel('# de Experimento')\n",
        "plt.grid()\n",
        "plt.title('Tiempo de ejecución Python')\n",
        "\n",
        "\n",
        "plt.subplot(1, 3, 2)\n",
        "plt.plot(dato_rend[\"cython\"], color='orange', label='Cython')\n",
        "plt.ylabel('Tiempo')\n",
        "plt.xlabel('# de Experimento')\n",
        "plt.grid()\n",
        "plt.title('Tiempo de ejecución Cython')\n",
        "\n",
        "plt.subplot(1, 3, 3)\n",
        "plt.plot(dato_rend[\"python\"], color='red', label='Python')\n",
        "plt.plot(dato_rend[\"cython\"], color='orange', label='Cython')\n",
        "plt.legend()\n",
        "plt.ylabel('Tiempo')\n",
        "plt.xlabel('# de Experimento')\n",
        "plt.grid()\n",
        "plt.title('Tiempo de ejecución Python Vs Cython')\n",
        "plt.plot(dato_rend[\"python\"], color=\"red\")\n",
        "plt.show()"
      ],
      "metadata": {
        "colab": {
          "base_uri": "https://localhost:8080/",
          "height": 273
        },
        "id": "h5U0Ow3tAwbK",
        "outputId": "52a12652-3412-4ba9-f685-11285bd445f7"
      },
      "execution_count": 37,
      "outputs": [
        {
          "output_type": "display_data",
          "data": {
            "text/plain": [
              "<Figure size 1584x432 with 3 Axes>"
            ],
            "image/png": "[encoded data removed]"
          },
          "metadata": {
            "needs_background": "light"
          }
        }
      ]
    },
    {
      "cell_type": "markdown",
      "source": [
        "# **Conclusiones**"
      ],
      "metadata": {
        "id": "EBaHGjPvFKjh"
      }
    },
    {
      "cell_type": "markdown",
      "source": [
        "\n",
        "\n",
        "*   De acuerdo con los tiempo de ejecución, se observa que Cython tiene un rendimiento superior con respecto a Python.\n",
        "*   Dado que Cython está trabajando con los criterios y ciertas estructuras de C/C++, se observa que estos, al ser lenguajes compilados pueden ayudar a reducir considerablemente los tiempos de ejecucion a diferencia de los lenguajes interpretados como lo es Python.\n",
        "*   Los lenguajes de programación de alto nivel no siempre tienden a ser las mejores opciones en terminos de rendimiento, ya que deben pasar por más procesos y tardan más para llegar a los componentes de hardware.\n",
        "*   Se debe tener en cuenta que para ejecutar aplicaciones de rendimiento de un programa, es necesario observar que no existan programas no basicos ejecutandose en segundo plano.\n",
        "\n",
        "\n",
        "\n"
      ],
      "metadata": {
        "id": "_v0WidXpFxrX"
      }
    }
  ]
}